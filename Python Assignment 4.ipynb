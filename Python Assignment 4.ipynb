{
 "cells": [
  {
   "cell_type": "markdown",
   "metadata": {},
   "source": [
    "#### 1.1 Write a Python Program(with class concepts) to find the area of the triangle using the below formula. area = (s*(s-a)*(s-b)*(s-c)) ** 0.5 . Function to take the length of the sides of triangle from user should be defined in the parent class and function to calculate the area should be defined in subclass."
   ]
  },
  {
   "cell_type": "code",
   "execution_count": 1,
   "metadata": {},
   "outputs": [
    {
     "name": "stdout",
     "output_type": "stream",
     "text": [
      "Enter side1 of the triangle:2\n",
      "Enter side2 of the triangle:2\n",
      "Enter side3 of the triangle:3\n",
      "Value of s : 3.5\n",
      "Area of triangle is :  1.984313483298443\n"
     ]
    }
   ],
   "source": [
    "class triangle:\n",
    "    def __init__(self,s1,s2,s3):\n",
    "        self.s1 = float(input(\"Enter side1 of the triangle:\"))\n",
    "        self.s2= float(input(\"Enter side2 of the triangle:\"))\n",
    "        self.s3 = float(input(\"Enter side3 of the triangle:\"))\n",
    "    \n",
    "class Area_triangle(triangle):\n",
    "    def __init__(self,*args):\n",
    "        super(Area_triangle,self).__init__(*args)\n",
    "        \n",
    "    def Calculate_area(self):\n",
    "        \n",
    "        a = self.s1\n",
    "        b = self.s2\n",
    "        c = self.s3\n",
    "        \n",
    "        s=(a + b + c)/2\n",
    "        \n",
    "        print(\"Value of s :\",s)\n",
    "        \n",
    "        area=(s*(s-a)*(s-b)*(s-c))**0.5\n",
    "        \n",
    "        print(\"Area of triangle is : \",area)\n",
    "        \n",
    "t = Area_triangle(\"s1\",\"s2\",\"s3\")\n",
    "t.Calculate_area()"
   ]
  },
  {
   "cell_type": "markdown",
   "metadata": {},
   "source": [
    "#### 1.2 Write a function filter_long_words() that takes a list of words and an integer n and returns the list of words that are longer than n."
   ]
  },
  {
   "cell_type": "code",
   "execution_count": 2,
   "metadata": {},
   "outputs": [
    {
     "name": "stdout",
     "output_type": "stream",
     "text": [
      "The List of words that are longer than 4 is :\n",
      "['Green', 'Yellow', 'White']\n"
     ]
    }
   ],
   "source": [
    "def filter_long_words(wordlist,n):\n",
    "    long_word=[]\n",
    "    for word in wordlist:\n",
    "        if len(word)>n:\n",
    "            long_word.append(word)\n",
    "    print(\"The List of words that are longer than \" +str(n)+ \" is :\")\n",
    "    print(long_word)\n",
    "        \n",
    "wordlist= [\"Red\",\"Blue\",\"Green\",\"Yellow\",\"White\"]\n",
    "filter_long_words(wordlist,4)"
   ]
  },
  {
   "cell_type": "markdown",
   "metadata": {},
   "source": [
    "#### 2.1 Write a Python program using function concept that maps list of words into a list of integers representing the lengths of the corresponding words.\n",
    "Hint: If a list [ ab,cde,erty] is passed on to the python function output should come as [2,3,4] Here 2,3 and 4 are the lengths of the words in the list."
   ]
  },
  {
   "cell_type": "code",
   "execution_count": 3,
   "metadata": {},
   "outputs": [
    {
     "name": "stdout",
     "output_type": "stream",
     "text": [
      "lenth of the words in list is:[2, 3, 4]\n"
     ]
    }
   ],
   "source": [
    "def wordlenth(words):\n",
    "    return list(map(lambda x:len(x),words))  \n",
    "\n",
    "words=['ab','cde','erty']\n",
    "print(\"lenth of the words in list is:\" + str(wordlenth(words)))"
   ]
  },
  {
   "cell_type": "markdown",
   "metadata": {},
   "source": [
    "#### 2.2 Write a Python function which takes a character (i.e. a string of length 1) and returns True if it is a vowel, False otherwise."
   ]
  },
  {
   "cell_type": "code",
   "execution_count": 4,
   "metadata": {},
   "outputs": [
    {
     "name": "stdout",
     "output_type": "stream",
     "text": [
      "True\n",
      "False\n"
     ]
    }
   ],
   "source": [
    "def vowel_check(char):\n",
    "    str=[\"a\",\"e\",\"i\",\"o\",\"u\"]\n",
    "    for i in str:\n",
    "        if len(char)==1 and i==char.lower():\n",
    "            return True\n",
    "        else:\n",
    "            return False\n",
    "print(vowel_check(\"A\"))            \n",
    "print(vowel_check(\"b\"))    "
   ]
  },
  {
   "cell_type": "code",
   "execution_count": null,
   "metadata": {},
   "outputs": [],
   "source": []
  }
 ],
 "metadata": {
  "kernelspec": {
   "display_name": "Python 3",
   "language": "python",
   "name": "python3"
  },
  "language_info": {
   "codemirror_mode": {
    "name": "ipython",
    "version": 3
   },
   "file_extension": ".py",
   "mimetype": "text/x-python",
   "name": "python",
   "nbconvert_exporter": "python",
   "pygments_lexer": "ipython3",
   "version": "3.6.9"
  }
 },
 "nbformat": 4,
 "nbformat_minor": 4
}
