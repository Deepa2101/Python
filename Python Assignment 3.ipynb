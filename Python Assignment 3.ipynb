{
 "cells": [
  {
   "cell_type": "markdown",
   "metadata": {},
   "source": [
    "### 1.1 Write a Python Program to implement your own myreduce() function which works exactly like Python's built-in function reduce()"
   ]
  },
  {
   "cell_type": "code",
   "execution_count": 1,
   "metadata": {},
   "outputs": [
    {
     "name": "stdout",
     "output_type": "stream",
     "text": [
      "Sum of all element in a list is: 237\n",
      "Product of all element in a list is: 50793600\n",
      "Minimum number in a list is: 10\n"
     ]
    }
   ],
   "source": [
    "def myreduce(fun,seq):\n",
    "    if (len(seq) <= 1):\n",
    "         return \"seq is empty or having only 1 element\",seq\n",
    "    x=seq[0]\n",
    "    for i in seq [1:]:\n",
    "        x = fun(x,i)\n",
    "    return x\n",
    "\n",
    "# implementing myreduce() function below :\n",
    "\n",
    "list_=[10,20,44,52,111]\n",
    "#For Addition:\n",
    "def sum_(x,y):\n",
    "    return x+y\n",
    "print(\"Sum of all element in a list is:\", myreduce(sum_, list_))\n",
    "\n",
    "# For product:\n",
    "print(\"Product of all element in a list is:\",myreduce(lambda x,y:(x*y),list_))\n",
    "\n",
    "\n",
    "# For Minimum number:\n",
    "print(\"Minimum number in a list is:\", myreduce(lambda x,y:y if (x>y) else x,list_))\n",
    "\n"
   ]
  },
  {
   "cell_type": "markdown",
   "metadata": {},
   "source": [
    "### 1.2 Write a Python program to implement your own myfilter() function which works exactly like Python's built-in function filter()"
   ]
  },
  {
   "cell_type": "code",
   "execution_count": 2,
   "metadata": {},
   "outputs": [
    {
     "name": "stdout",
     "output_type": "stream",
     "text": [
      "Even number from a list: [12, 60, 54, 36, 102]\n",
      "Number divisible by 12 from a list : [12, 60, 36]\n"
     ]
    }
   ],
   "source": [
    "def myfilter(fun,seq):\n",
    "    filter_result=[]\n",
    "    for x in seq:\n",
    "        if fun(x)==True:\n",
    "            filter_result.append(x)\n",
    "        else:\n",
    "            pass\n",
    "    return filter_result\n",
    "\n",
    "# Implementing myfilter() function below :\n",
    "\n",
    "my_list=[12,60,21,54, 36, 102,101,339]\n",
    "\n",
    "# For finding even number from a list :\n",
    "print(\"Even number from a list:\",myfilter(lambda x:x%2==0,my_list))\n",
    "\n",
    "#for finding number which is divisible by 12 from a list\n",
    "print(\"Number divisible by 12 from a list :\",myfilter(lambda x: (x % 12 == 0), my_list))\n"
   ]
  },
  {
   "cell_type": "markdown",
   "metadata": {},
   "source": [
    "### 2. Implement List comprehensions to produce the following lists.Write List comprehensions to produce the following Lists \n",
    "['x', 'xx', 'xxx', 'xxxx', 'y', 'yy', 'yyy', 'yyyy', 'z', 'zz', 'zzz', 'zzzz']\n",
    "\n",
    "['x', 'y', 'z', 'xx', 'yy', 'zz', 'xxx', 'yyy', 'zzz', 'xxxx', 'yyyy', 'zzzz']\n",
    "\n",
    "[[2], [3], [4], [3], [4], [5], [4], [5], [6]] \n",
    "\n",
    "[[2, 3, 4, 5], [3, 4, 5, 6],[4, 5, 6, 7], [5, 6, 7, 8]]\n",
    "\n",
    "[(1, 1), (2, 1), (3, 1), (1, 2), (2, 2), (3, 2), (1, 3), (2, 3), (3, 3)]"
   ]
  },
  {
   "cell_type": "code",
   "execution_count": 3,
   "metadata": {},
   "outputs": [
    {
     "name": "stdout",
     "output_type": "stream",
     "text": [
      "['x', 'xx', 'xxx', 'xxxx', 'y', 'yy', 'yyy', 'yyyy', 'z', 'zz', 'zzz', 'zzzz']\n",
      "['x', 'y', 'z', 'xx', 'yy', 'zz', 'xxx', 'yyy', 'zzz', 'xxxx', 'yyyy', 'zzzz']\n"
     ]
    }
   ],
   "source": [
    "list_n=[\"x\",\"y\",\"z\"]\n",
    "list1=[(i*j) for i in list_n for j in range(1,5)]\n",
    "print(list1)\n",
    "list2=[(i*j)for i in range(1,5) for j in list_n]\n",
    "print(list2)"
   ]
  },
  {
   "cell_type": "code",
   "execution_count": 4,
   "metadata": {
    "scrolled": true
   },
   "outputs": [
    {
     "name": "stdout",
     "output_type": "stream",
     "text": [
      "[[2], [3], [4], [3], [4], [5], [4], [5], [6]]\n"
     ]
    }
   ],
   "source": [
    "list3=[[(i+j)] for i in [2,3,4] for j in range(3)]\n",
    "print(list3)"
   ]
  },
  {
   "cell_type": "code",
   "execution_count": 5,
   "metadata": {},
   "outputs": [
    {
     "name": "stdout",
     "output_type": "stream",
     "text": [
      "[[2, 3, 4, 5], [3, 4, 5, 6], [4, 5, 6, 7], [5, 6, 7, 8]]\n"
     ]
    }
   ],
   "source": [
    "list_n=[2,3,4,5]\n",
    "list4=[[i+j for i in list_n]for j in range(4) ]\n",
    "print(list4)"
   ]
  },
  {
   "cell_type": "code",
   "execution_count": 6,
   "metadata": {},
   "outputs": [
    {
     "name": "stdout",
     "output_type": "stream",
     "text": [
      "[(1, 1), (2, 1), (3, 1), (1, 2), (2, 2), (3, 2), (1, 3), (2, 3), (3, 3)]\n"
     ]
    }
   ],
   "source": [
    "list_n=[1,2,3]\n",
    "list5=[(j,i) for i in list_n for j in range(1,4) ]\n",
    "print(list5)"
   ]
  },
  {
   "cell_type": "code",
   "execution_count": null,
   "metadata": {},
   "outputs": [],
   "source": []
  }
 ],
 "metadata": {
  "kernelspec": {
   "display_name": "Python 3",
   "language": "python",
   "name": "python3"
  },
  "language_info": {
   "codemirror_mode": {
    "name": "ipython",
    "version": 3
   },
   "file_extension": ".py",
   "mimetype": "text/x-python",
   "name": "python",
   "nbconvert_exporter": "python",
   "pygments_lexer": "ipython3",
   "version": "3.6.9"
  }
 },
 "nbformat": 4,
 "nbformat_minor": 4
}
